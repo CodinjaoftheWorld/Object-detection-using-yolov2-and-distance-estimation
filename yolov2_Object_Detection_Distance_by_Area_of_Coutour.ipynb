{
 "cells": [
  {
   "cell_type": "code",
   "execution_count": 16,
   "metadata": {},
   "outputs": [],
   "source": [
    "import cv2\n",
    "import numpy as np\n",
    "import sys\n",
    "\n",
    "\n",
    "LABELS = ['person','bicycle','car','motorbike','aeroplane','bus','train','truck','boat','traffic light',\n",
    "          'fire hydrant','stop sign','parking meter','bench','bird','cat','dog','horse','sheep','cow',\n",
    "          'elephant','bear','zebra','giraffe','backpack','umbrella','handbag','tie','suitcase','frisbee',\n",
    "          'skis','snowboard','sports ball','kite','baseball bat','baseball glove','skateboard','surfboard',\n",
    "          'tennis racket','bottle','wine glass','cup','fork','knife','spoon','bowl','banana','apple','sandwich',\n",
    "          'orange','broccoli','carrot','hot dog','pizza','donut','cake','chair','sofa','pottedplant','bed',\n",
    "          'diningtable','toilet','tvmonitor','laptop','mouse','remote','keyboard','cell phone','microwave','oven',\n",
    "          'toaster','sink','refrigerator','book','clock','vase','scissors','teddy bear','hair drier','toothbrush']\n",
    "\n",
    "\n",
    "COLORS = np.random.uniform(0, 255, size=(len(LABELS), 3))\n"
   ]
  },
  {
   "cell_type": "code",
   "execution_count": 17,
   "metadata": {},
   "outputs": [
    {
     "data": {
      "text/plain": [
       "'C:\\\\Users\\\\ga383983\\\\Car-Distance-Estimation-Indication\\\\yolov2codes'"
      ]
     },
     "execution_count": 17,
     "metadata": {},
     "output_type": "execute_result"
    }
   ],
   "source": [
    "pwd"
   ]
  },
  {
   "cell_type": "code",
   "execution_count": 18,
   "metadata": {},
   "outputs": [],
   "source": [
    "model = 'C:/Users/ga383983/Car-Distance-Estimation-Indication/yolov2codes/yolov2.weights'\n",
    "config = 'C:/Users/ga383983/Car-Distance-Estimation-Indication/yolov2codes/yolov2.cfg'\n",
    "min_confidence=0.14\n",
    "\n",
    "net = cv2.dnn.readNetFromDarknet(config,model)"
   ]
  },
  {
   "cell_type": "code",
   "execution_count": 19,
   "metadata": {},
   "outputs": [
    {
     "name": "stdout",
     "output_type": "stream",
     "text": [
      "0.2426063766269952\n"
     ]
    }
   ],
   "source": [
    "import math\n",
    "\n",
    "# Finction to indicate the nearness of object from the camera lense\n",
    "def dist_indicator_area(image, startX, startY, box_width, box_height, width, height):\n",
    "\n",
    "    crop_img = image[startY:startY+box_height, startX:startX+box_width]\n",
    "    crop_gray = cv2.cvtColor(crop_img, cv2.COLOR_BGR2GRAY)\n",
    "    ret,thresh = cv2.threshold(crop_gray,127,255,0)\n",
    "    contours, hierarchy = cv2.findContours(thresh, 1, 2)\n",
    "\n",
    "    if len(contours) != 0:\n",
    "        #Arear of the largest contour(Coutour fo car) witnin bounding box\n",
    "        c = max(contours, key = cv2.contourArea)\n",
    "        bb_area = cv2.contourArea(c)\n",
    "        #print(bb_area)\n",
    "\n",
    "        #Area of the whole image\n",
    "        img_area = height*width \n",
    "        #print(img_area)\n",
    "\n",
    "        #Ratio of area of car vs total area of the image\n",
    "        ratio = bb_area / img_area\n",
    "        #print(ratio)\n",
    "\n",
    "        if ratio > 0.3:\n",
    "            img_label = \"Near\"\n",
    "        else:\n",
    "            img_label = \"Far\"\n",
    "    \n",
    "    return img_label, ratio\n",
    "\n",
    "\n",
    "#Loading the image of car\n",
    "image = cv2.imread('bottle_2.jpg')\n",
    "#print(image.shape)\n",
    "height, width, ch = image.shape\n",
    "resize_img = cv2.resize(image,(225,225))\n",
    "\n",
    "\n",
    "\n",
    "blob = cv2.dnn.blobFromImage(resize_img, 1.0/255.0, (416, 416), True, crop=False)\n",
    "\n",
    "#blob = cv2.dnn.blobFromImage(resize_img, 0.007843, (300,300), 127.5)\n",
    "\n",
    "net.setInput(blob)\n",
    "predictions = net.forward()\n",
    "probability_index = 5\n",
    "\n",
    "for i in range(predictions.shape[0]):\n",
    "    prob_arr=predictions[i][probability_index:]\n",
    "    class_index = prob_arr.argmax(axis=0)\n",
    "    confidence = prob_arr[class_index]\n",
    "    if confidence > min_confidence:\n",
    "        x_center=predictions[i][0]*width\n",
    "        y_center=predictions[i][1]*height\n",
    "        width_box=predictions[i][2]*width\n",
    "        height_box=predictions[i][3]*height\n",
    "        \n",
    "        x1=int(x_center-width_box * 0.5) # Start X coordinate\n",
    "        y1=int(y_center-height_box * 0.5)# Start Y coordinate\n",
    "        x2=int(x_center+width_box * 0.5)# End X coordinate\n",
    "        y2=int(y_center+height_box * 0.5)# End y coordinate\n",
    "        \n",
    "        cv2.rectangle(image,(x1,y1),(x2,y2), (0,255,120),2)\n",
    "             \n",
    "        if class_index== 39 :# 13 is the index of Bench object in the LABELS list for the predcition as bench\n",
    "\n",
    "            img_label, ratio = dist_indicator_area(image, x1, y1, int(width_box), int(height_box), width, height)  \n",
    "            \n",
    "            cv2.putText(image, img_label, (x1+2, y1+13), cv2.FONT_HERSHEY_SIMPLEX, 0.5, (200, 80, 20), 2)\n",
    "            \n",
    "            print(ratio)\n",
    "        \n",
    "cv2.imshow(\"Output\", image)\n",
    "cv2.waitKey(0)\n",
    "cv2.destroyAllWindows()"
   ]
  },
  {
   "cell_type": "code",
   "execution_count": null,
   "metadata": {},
   "outputs": [],
   "source": []
  }
 ],
 "metadata": {
  "kernelspec": {
   "display_name": "Python 3",
   "language": "python",
   "name": "python3"
  },
  "language_info": {
   "codemirror_mode": {
    "name": "ipython",
    "version": 3
   },
   "file_extension": ".py",
   "mimetype": "text/x-python",
   "name": "python",
   "nbconvert_exporter": "python",
   "pygments_lexer": "ipython3",
   "version": "3.6.5"
  }
 },
 "nbformat": 4,
 "nbformat_minor": 2
}
